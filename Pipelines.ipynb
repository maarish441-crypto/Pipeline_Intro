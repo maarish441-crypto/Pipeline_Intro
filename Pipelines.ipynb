{
 "cells": [
  {
   "cell_type": "code",
   "execution_count": 88,
   "metadata": {},
   "outputs": [],
   "source": [
    "from sklearn.pipeline import Pipeline\n",
    "from sklearn.preprocessing import StandardScaler\n",
    "from sklearn.linear_model import LogisticRegression\n",
    "import numpy as np\n",
    "from sklearn.preprocessing import OneHotEncoder\n",
    "from sklearn.compose import ColumnTransformer"
   ]
  },
  {
   "cell_type": "code",
   "execution_count": 89,
   "metadata": {},
   "outputs": [],
   "source": [
    "steps = [(\"Standard_scaler\" , StandardScaler()),\n",
    "        (\"classifier\" , LogisticRegression())]"
   ]
  },
  {
   "cell_type": "code",
   "execution_count": 90,
   "metadata": {},
   "outputs": [
    {
     "data": {
      "text/plain": [
       "[('Standard_scaler', StandardScaler()), ('classifier', LogisticRegression())]"
      ]
     },
     "execution_count": 90,
     "metadata": {},
     "output_type": "execute_result"
    }
   ],
   "source": [
    "steps"
   ]
  },
  {
   "cell_type": "code",
   "execution_count": 91,
   "metadata": {},
   "outputs": [],
   "source": [
    "pipe = Pipeline(steps)"
   ]
  },
  {
   "cell_type": "code",
   "execution_count": 92,
   "metadata": {},
   "outputs": [],
   "source": [
    "from sklearn import set_config"
   ]
  },
  {
   "cell_type": "code",
   "execution_count": 93,
   "metadata": {},
   "outputs": [],
   "source": [
    "set_config(display=\"diagram\")"
   ]
  },
  {
   "cell_type": "code",
   "execution_count": 94,
   "metadata": {},
   "outputs": [
    {
     "data": {
      "text/html": [
       "<style>#sk-9894e9bd-6c66-4e88-9dee-93e0370e8b4b {color: black;background-color: white;}#sk-9894e9bd-6c66-4e88-9dee-93e0370e8b4b pre{padding: 0;}#sk-9894e9bd-6c66-4e88-9dee-93e0370e8b4b div.sk-toggleable {background-color: white;}#sk-9894e9bd-6c66-4e88-9dee-93e0370e8b4b label.sk-toggleable__label {cursor: pointer;display: block;width: 100%;margin-bottom: 0;padding: 0.3em;box-sizing: border-box;text-align: center;}#sk-9894e9bd-6c66-4e88-9dee-93e0370e8b4b label.sk-toggleable__label-arrow:before {content: \"▸\";float: left;margin-right: 0.25em;color: #696969;}#sk-9894e9bd-6c66-4e88-9dee-93e0370e8b4b label.sk-toggleable__label-arrow:hover:before {color: black;}#sk-9894e9bd-6c66-4e88-9dee-93e0370e8b4b div.sk-estimator:hover label.sk-toggleable__label-arrow:before {color: black;}#sk-9894e9bd-6c66-4e88-9dee-93e0370e8b4b div.sk-toggleable__content {max-height: 0;max-width: 0;overflow: hidden;text-align: left;background-color: #f0f8ff;}#sk-9894e9bd-6c66-4e88-9dee-93e0370e8b4b div.sk-toggleable__content pre {margin: 0.2em;color: black;border-radius: 0.25em;background-color: #f0f8ff;}#sk-9894e9bd-6c66-4e88-9dee-93e0370e8b4b input.sk-toggleable__control:checked~div.sk-toggleable__content {max-height: 200px;max-width: 100%;overflow: auto;}#sk-9894e9bd-6c66-4e88-9dee-93e0370e8b4b input.sk-toggleable__control:checked~label.sk-toggleable__label-arrow:before {content: \"▾\";}#sk-9894e9bd-6c66-4e88-9dee-93e0370e8b4b div.sk-estimator input.sk-toggleable__control:checked~label.sk-toggleable__label {background-color: #d4ebff;}#sk-9894e9bd-6c66-4e88-9dee-93e0370e8b4b div.sk-label input.sk-toggleable__control:checked~label.sk-toggleable__label {background-color: #d4ebff;}#sk-9894e9bd-6c66-4e88-9dee-93e0370e8b4b input.sk-hidden--visually {border: 0;clip: rect(1px 1px 1px 1px);clip: rect(1px, 1px, 1px, 1px);height: 1px;margin: -1px;overflow: hidden;padding: 0;position: absolute;width: 1px;}#sk-9894e9bd-6c66-4e88-9dee-93e0370e8b4b div.sk-estimator {font-family: monospace;background-color: #f0f8ff;border: 1px dotted black;border-radius: 0.25em;box-sizing: border-box;margin-bottom: 0.5em;}#sk-9894e9bd-6c66-4e88-9dee-93e0370e8b4b div.sk-estimator:hover {background-color: #d4ebff;}#sk-9894e9bd-6c66-4e88-9dee-93e0370e8b4b div.sk-parallel-item::after {content: \"\";width: 100%;border-bottom: 1px solid gray;flex-grow: 1;}#sk-9894e9bd-6c66-4e88-9dee-93e0370e8b4b div.sk-label:hover label.sk-toggleable__label {background-color: #d4ebff;}#sk-9894e9bd-6c66-4e88-9dee-93e0370e8b4b div.sk-serial::before {content: \"\";position: absolute;border-left: 1px solid gray;box-sizing: border-box;top: 2em;bottom: 0;left: 50%;}#sk-9894e9bd-6c66-4e88-9dee-93e0370e8b4b div.sk-serial {display: flex;flex-direction: column;align-items: center;background-color: white;padding-right: 0.2em;padding-left: 0.2em;}#sk-9894e9bd-6c66-4e88-9dee-93e0370e8b4b div.sk-item {z-index: 1;}#sk-9894e9bd-6c66-4e88-9dee-93e0370e8b4b div.sk-parallel {display: flex;align-items: stretch;justify-content: center;background-color: white;}#sk-9894e9bd-6c66-4e88-9dee-93e0370e8b4b div.sk-parallel::before {content: \"\";position: absolute;border-left: 1px solid gray;box-sizing: border-box;top: 2em;bottom: 0;left: 50%;}#sk-9894e9bd-6c66-4e88-9dee-93e0370e8b4b div.sk-parallel-item {display: flex;flex-direction: column;position: relative;background-color: white;}#sk-9894e9bd-6c66-4e88-9dee-93e0370e8b4b div.sk-parallel-item:first-child::after {align-self: flex-end;width: 50%;}#sk-9894e9bd-6c66-4e88-9dee-93e0370e8b4b div.sk-parallel-item:last-child::after {align-self: flex-start;width: 50%;}#sk-9894e9bd-6c66-4e88-9dee-93e0370e8b4b div.sk-parallel-item:only-child::after {width: 0;}#sk-9894e9bd-6c66-4e88-9dee-93e0370e8b4b div.sk-dashed-wrapped {border: 1px dashed gray;margin: 0 0.4em 0.5em 0.4em;box-sizing: border-box;padding-bottom: 0.4em;background-color: white;position: relative;}#sk-9894e9bd-6c66-4e88-9dee-93e0370e8b4b div.sk-label label {font-family: monospace;font-weight: bold;background-color: white;display: inline-block;line-height: 1.2em;}#sk-9894e9bd-6c66-4e88-9dee-93e0370e8b4b div.sk-label-container {position: relative;z-index: 2;text-align: center;}#sk-9894e9bd-6c66-4e88-9dee-93e0370e8b4b div.sk-container {/* jupyter's `normalize.less` sets `[hidden] { display: none; }` but bootstrap.min.css set `[hidden] { display: none !important; }` so we also need the `!important` here to be able to override the default hidden behavior on the sphinx rendered scikit-learn.org. See: https://github.com/scikit-learn/scikit-learn/issues/21755 */display: inline-block !important;position: relative;}#sk-9894e9bd-6c66-4e88-9dee-93e0370e8b4b div.sk-text-repr-fallback {display: none;}</style><div id=\"sk-9894e9bd-6c66-4e88-9dee-93e0370e8b4b\" class=\"sk-top-container\"><div class=\"sk-text-repr-fallback\"><pre>Pipeline(steps=[(&#x27;Standard_scaler&#x27;, StandardScaler()),\n",
       "                (&#x27;classifier&#x27;, LogisticRegression())])</pre><b>Please rerun this cell to show the HTML repr or trust the notebook.</b></div><div class=\"sk-container\" hidden><div class=\"sk-item sk-dashed-wrapped\"><div class=\"sk-label-container\"><div class=\"sk-label sk-toggleable\"><input class=\"sk-toggleable__control sk-hidden--visually\" id=\"f80c01f5-b8dc-41f2-87e7-45288a2e53e0\" type=\"checkbox\" ><label for=\"f80c01f5-b8dc-41f2-87e7-45288a2e53e0\" class=\"sk-toggleable__label sk-toggleable__label-arrow\">Pipeline</label><div class=\"sk-toggleable__content\"><pre>Pipeline(steps=[(&#x27;Standard_scaler&#x27;, StandardScaler()),\n",
       "                (&#x27;classifier&#x27;, LogisticRegression())])</pre></div></div></div><div class=\"sk-serial\"><div class=\"sk-item\"><div class=\"sk-estimator sk-toggleable\"><input class=\"sk-toggleable__control sk-hidden--visually\" id=\"6071d76e-091f-4684-aaf0-5d88ba5508e8\" type=\"checkbox\" ><label for=\"6071d76e-091f-4684-aaf0-5d88ba5508e8\" class=\"sk-toggleable__label sk-toggleable__label-arrow\">StandardScaler</label><div class=\"sk-toggleable__content\"><pre>StandardScaler()</pre></div></div></div><div class=\"sk-item\"><div class=\"sk-estimator sk-toggleable\"><input class=\"sk-toggleable__control sk-hidden--visually\" id=\"baadbd88-12af-40d6-9356-84d51ad3d6a0\" type=\"checkbox\" ><label for=\"baadbd88-12af-40d6-9356-84d51ad3d6a0\" class=\"sk-toggleable__label sk-toggleable__label-arrow\">LogisticRegression</label><div class=\"sk-toggleable__content\"><pre>LogisticRegression()</pre></div></div></div></div></div></div></div>"
      ],
      "text/plain": [
       "Pipeline(steps=[('Standard_scaler', StandardScaler()),\n",
       "                ('classifier', LogisticRegression())])"
      ]
     },
     "execution_count": 94,
     "metadata": {},
     "output_type": "execute_result"
    }
   ],
   "source": [
    "pipe"
   ]
  },
  {
   "cell_type": "code",
   "execution_count": 95,
   "metadata": {},
   "outputs": [],
   "source": [
    "from sklearn.datasets import make_classification\n",
    "X,y = make_classification(n_samples = 1000)"
   ]
  },
  {
   "cell_type": "code",
   "execution_count": 96,
   "metadata": {},
   "outputs": [
    {
     "data": {
      "text/plain": [
       "(1000, 20)"
      ]
     },
     "execution_count": 96,
     "metadata": {},
     "output_type": "execute_result"
    }
   ],
   "source": [
    "X.shape"
   ]
  },
  {
   "cell_type": "code",
   "execution_count": 97,
   "metadata": {},
   "outputs": [],
   "source": [
    "from sklearn.model_selection import train_test_split"
   ]
  },
  {
   "cell_type": "code",
   "execution_count": 98,
   "metadata": {},
   "outputs": [],
   "source": [
    "X_train, X_test, y_train, y_test = train_test_split(\n",
    "    X, y, test_size=0.33, random_state=42)"
   ]
  },
  {
   "cell_type": "code",
   "execution_count": 99,
   "metadata": {},
   "outputs": [
    {
     "data": {
      "text/html": [
       "<style>#sk-f262bac6-106b-44dc-bf89-797f5159ff81 {color: black;background-color: white;}#sk-f262bac6-106b-44dc-bf89-797f5159ff81 pre{padding: 0;}#sk-f262bac6-106b-44dc-bf89-797f5159ff81 div.sk-toggleable {background-color: white;}#sk-f262bac6-106b-44dc-bf89-797f5159ff81 label.sk-toggleable__label {cursor: pointer;display: block;width: 100%;margin-bottom: 0;padding: 0.3em;box-sizing: border-box;text-align: center;}#sk-f262bac6-106b-44dc-bf89-797f5159ff81 label.sk-toggleable__label-arrow:before {content: \"▸\";float: left;margin-right: 0.25em;color: #696969;}#sk-f262bac6-106b-44dc-bf89-797f5159ff81 label.sk-toggleable__label-arrow:hover:before {color: black;}#sk-f262bac6-106b-44dc-bf89-797f5159ff81 div.sk-estimator:hover label.sk-toggleable__label-arrow:before {color: black;}#sk-f262bac6-106b-44dc-bf89-797f5159ff81 div.sk-toggleable__content {max-height: 0;max-width: 0;overflow: hidden;text-align: left;background-color: #f0f8ff;}#sk-f262bac6-106b-44dc-bf89-797f5159ff81 div.sk-toggleable__content pre {margin: 0.2em;color: black;border-radius: 0.25em;background-color: #f0f8ff;}#sk-f262bac6-106b-44dc-bf89-797f5159ff81 input.sk-toggleable__control:checked~div.sk-toggleable__content {max-height: 200px;max-width: 100%;overflow: auto;}#sk-f262bac6-106b-44dc-bf89-797f5159ff81 input.sk-toggleable__control:checked~label.sk-toggleable__label-arrow:before {content: \"▾\";}#sk-f262bac6-106b-44dc-bf89-797f5159ff81 div.sk-estimator input.sk-toggleable__control:checked~label.sk-toggleable__label {background-color: #d4ebff;}#sk-f262bac6-106b-44dc-bf89-797f5159ff81 div.sk-label input.sk-toggleable__control:checked~label.sk-toggleable__label {background-color: #d4ebff;}#sk-f262bac6-106b-44dc-bf89-797f5159ff81 input.sk-hidden--visually {border: 0;clip: rect(1px 1px 1px 1px);clip: rect(1px, 1px, 1px, 1px);height: 1px;margin: -1px;overflow: hidden;padding: 0;position: absolute;width: 1px;}#sk-f262bac6-106b-44dc-bf89-797f5159ff81 div.sk-estimator {font-family: monospace;background-color: #f0f8ff;border: 1px dotted black;border-radius: 0.25em;box-sizing: border-box;margin-bottom: 0.5em;}#sk-f262bac6-106b-44dc-bf89-797f5159ff81 div.sk-estimator:hover {background-color: #d4ebff;}#sk-f262bac6-106b-44dc-bf89-797f5159ff81 div.sk-parallel-item::after {content: \"\";width: 100%;border-bottom: 1px solid gray;flex-grow: 1;}#sk-f262bac6-106b-44dc-bf89-797f5159ff81 div.sk-label:hover label.sk-toggleable__label {background-color: #d4ebff;}#sk-f262bac6-106b-44dc-bf89-797f5159ff81 div.sk-serial::before {content: \"\";position: absolute;border-left: 1px solid gray;box-sizing: border-box;top: 2em;bottom: 0;left: 50%;}#sk-f262bac6-106b-44dc-bf89-797f5159ff81 div.sk-serial {display: flex;flex-direction: column;align-items: center;background-color: white;padding-right: 0.2em;padding-left: 0.2em;}#sk-f262bac6-106b-44dc-bf89-797f5159ff81 div.sk-item {z-index: 1;}#sk-f262bac6-106b-44dc-bf89-797f5159ff81 div.sk-parallel {display: flex;align-items: stretch;justify-content: center;background-color: white;}#sk-f262bac6-106b-44dc-bf89-797f5159ff81 div.sk-parallel::before {content: \"\";position: absolute;border-left: 1px solid gray;box-sizing: border-box;top: 2em;bottom: 0;left: 50%;}#sk-f262bac6-106b-44dc-bf89-797f5159ff81 div.sk-parallel-item {display: flex;flex-direction: column;position: relative;background-color: white;}#sk-f262bac6-106b-44dc-bf89-797f5159ff81 div.sk-parallel-item:first-child::after {align-self: flex-end;width: 50%;}#sk-f262bac6-106b-44dc-bf89-797f5159ff81 div.sk-parallel-item:last-child::after {align-self: flex-start;width: 50%;}#sk-f262bac6-106b-44dc-bf89-797f5159ff81 div.sk-parallel-item:only-child::after {width: 0;}#sk-f262bac6-106b-44dc-bf89-797f5159ff81 div.sk-dashed-wrapped {border: 1px dashed gray;margin: 0 0.4em 0.5em 0.4em;box-sizing: border-box;padding-bottom: 0.4em;background-color: white;position: relative;}#sk-f262bac6-106b-44dc-bf89-797f5159ff81 div.sk-label label {font-family: monospace;font-weight: bold;background-color: white;display: inline-block;line-height: 1.2em;}#sk-f262bac6-106b-44dc-bf89-797f5159ff81 div.sk-label-container {position: relative;z-index: 2;text-align: center;}#sk-f262bac6-106b-44dc-bf89-797f5159ff81 div.sk-container {/* jupyter's `normalize.less` sets `[hidden] { display: none; }` but bootstrap.min.css set `[hidden] { display: none !important; }` so we also need the `!important` here to be able to override the default hidden behavior on the sphinx rendered scikit-learn.org. See: https://github.com/scikit-learn/scikit-learn/issues/21755 */display: inline-block !important;position: relative;}#sk-f262bac6-106b-44dc-bf89-797f5159ff81 div.sk-text-repr-fallback {display: none;}</style><div id=\"sk-f262bac6-106b-44dc-bf89-797f5159ff81\" class=\"sk-top-container\"><div class=\"sk-text-repr-fallback\"><pre>Pipeline(steps=[(&#x27;Standard_scaler&#x27;, StandardScaler()),\n",
       "                (&#x27;classifier&#x27;, LogisticRegression())])</pre><b>Please rerun this cell to show the HTML repr or trust the notebook.</b></div><div class=\"sk-container\" hidden><div class=\"sk-item sk-dashed-wrapped\"><div class=\"sk-label-container\"><div class=\"sk-label sk-toggleable\"><input class=\"sk-toggleable__control sk-hidden--visually\" id=\"d682a0be-aae6-4916-890e-0afb1c5cd6dc\" type=\"checkbox\" ><label for=\"d682a0be-aae6-4916-890e-0afb1c5cd6dc\" class=\"sk-toggleable__label sk-toggleable__label-arrow\">Pipeline</label><div class=\"sk-toggleable__content\"><pre>Pipeline(steps=[(&#x27;Standard_scaler&#x27;, StandardScaler()),\n",
       "                (&#x27;classifier&#x27;, LogisticRegression())])</pre></div></div></div><div class=\"sk-serial\"><div class=\"sk-item\"><div class=\"sk-estimator sk-toggleable\"><input class=\"sk-toggleable__control sk-hidden--visually\" id=\"a976ff59-d3db-40cb-8c9b-e36385133de7\" type=\"checkbox\" ><label for=\"a976ff59-d3db-40cb-8c9b-e36385133de7\" class=\"sk-toggleable__label sk-toggleable__label-arrow\">StandardScaler</label><div class=\"sk-toggleable__content\"><pre>StandardScaler()</pre></div></div></div><div class=\"sk-item\"><div class=\"sk-estimator sk-toggleable\"><input class=\"sk-toggleable__control sk-hidden--visually\" id=\"a12911d7-a464-484a-80ca-345c0a72db3c\" type=\"checkbox\" ><label for=\"a12911d7-a464-484a-80ca-345c0a72db3c\" class=\"sk-toggleable__label sk-toggleable__label-arrow\">LogisticRegression</label><div class=\"sk-toggleable__content\"><pre>LogisticRegression()</pre></div></div></div></div></div></div></div>"
      ],
      "text/plain": [
       "Pipeline(steps=[('Standard_scaler', StandardScaler()),\n",
       "                ('classifier', LogisticRegression())])"
      ]
     },
     "execution_count": 99,
     "metadata": {},
     "output_type": "execute_result"
    }
   ],
   "source": [
    "pipe.fit(X_train,y_train)"
   ]
  },
  {
   "cell_type": "code",
   "execution_count": 100,
   "metadata": {},
   "outputs": [],
   "source": [
    "y_pred = pipe.predict(X_test)"
   ]
  },
  {
   "cell_type": "code",
   "execution_count": 101,
   "metadata": {},
   "outputs": [
    {
     "data": {
      "text/plain": [
       "array([0, 0, 0, 1, 1, 0, 1, 1, 1, 1, 0, 0, 1, 0, 0, 0, 1, 1, 1, 1, 1, 1,\n",
       "       0, 0, 0, 0, 1, 0, 1, 1, 0, 0, 0, 0, 0, 0, 0, 1, 0, 0, 0, 1, 0, 0,\n",
       "       1, 0, 0, 1, 0, 0, 1, 1, 1, 0, 1, 1, 0, 1, 1, 0, 1, 0, 1, 0, 1, 0,\n",
       "       1, 0, 0, 0, 1, 1, 0, 0, 0, 1, 0, 1, 1, 1, 0, 1, 0, 1, 1, 0, 0, 1,\n",
       "       0, 1, 1, 0, 0, 1, 1, 1, 0, 1, 1, 1, 1, 1, 1, 1, 1, 0, 1, 0, 1, 1,\n",
       "       1, 1, 0, 0, 0, 0, 1, 0, 0, 0, 0, 0, 0, 1, 0, 1, 1, 0, 0, 1, 0, 1,\n",
       "       1, 1, 1, 0, 0, 1, 0, 0, 0, 1, 1, 1, 1, 0, 0, 1, 0, 1, 0, 1, 0, 1,\n",
       "       0, 0, 1, 0, 0, 1, 1, 0, 1, 1, 0, 1, 0, 1, 0, 0, 0, 1, 1, 1, 0, 1,\n",
       "       0, 1, 1, 1, 0, 0, 1, 1, 0, 0, 0, 0, 1, 1, 0, 0, 0, 0, 1, 1, 1, 1,\n",
       "       0, 1, 0, 0, 1, 1, 1, 1, 1, 1, 1, 1, 0, 1, 0, 0, 1, 1, 1, 0, 0, 1,\n",
       "       0, 0, 1, 0, 0, 0, 0, 0, 0, 1, 1, 1, 1, 0, 0, 0, 1, 1, 1, 0, 1, 1,\n",
       "       0, 0, 1, 1, 1, 1, 0, 1, 1, 0, 1, 1, 1, 0, 1, 1, 0, 1, 0, 0, 0, 1,\n",
       "       0, 0, 1, 0, 1, 0, 0, 1, 0, 0, 1, 1, 1, 1, 0, 1, 1, 0, 0, 1, 0, 0,\n",
       "       1, 1, 0, 0, 0, 1, 1, 1, 0, 0, 0, 1, 1, 0, 0, 1, 1, 0, 0, 1, 1, 0,\n",
       "       1, 1, 1, 1, 0, 0, 1, 1, 1, 0, 0, 0, 1, 0, 1, 0, 0, 0, 1, 1, 0, 0])"
      ]
     },
     "execution_count": 101,
     "metadata": {},
     "output_type": "execute_result"
    }
   ],
   "source": [
    "y_pred"
   ]
  },
  {
   "cell_type": "code",
   "execution_count": 102,
   "metadata": {
    "tags": []
   },
   "outputs": [],
   "source": [
    "## EXAMPLE 2"
   ]
  },
  {
   "cell_type": "code",
   "execution_count": 103,
   "metadata": {},
   "outputs": [],
   "source": [
    "from sklearn.decomposition import PCA\n",
    "from sklearn.svm import SVC"
   ]
  },
  {
   "cell_type": "code",
   "execution_count": 104,
   "metadata": {},
   "outputs": [],
   "source": [
    "steps = [(\"scaling\",StandardScaler()),\n",
    "        (\"PCA\",PCA(n_components=3)),\n",
    "        (\"SVC\" , SVC())]"
   ]
  },
  {
   "cell_type": "code",
   "execution_count": 105,
   "metadata": {},
   "outputs": [],
   "source": [
    "pipe2 = Pipeline(steps)"
   ]
  },
  {
   "cell_type": "code",
   "execution_count": 106,
   "metadata": {},
   "outputs": [
    {
     "data": {
      "text/html": [
       "<style>#sk-b465c71a-ad64-49ee-a53a-5e2d604c1013 {color: black;background-color: white;}#sk-b465c71a-ad64-49ee-a53a-5e2d604c1013 pre{padding: 0;}#sk-b465c71a-ad64-49ee-a53a-5e2d604c1013 div.sk-toggleable {background-color: white;}#sk-b465c71a-ad64-49ee-a53a-5e2d604c1013 label.sk-toggleable__label {cursor: pointer;display: block;width: 100%;margin-bottom: 0;padding: 0.3em;box-sizing: border-box;text-align: center;}#sk-b465c71a-ad64-49ee-a53a-5e2d604c1013 label.sk-toggleable__label-arrow:before {content: \"▸\";float: left;margin-right: 0.25em;color: #696969;}#sk-b465c71a-ad64-49ee-a53a-5e2d604c1013 label.sk-toggleable__label-arrow:hover:before {color: black;}#sk-b465c71a-ad64-49ee-a53a-5e2d604c1013 div.sk-estimator:hover label.sk-toggleable__label-arrow:before {color: black;}#sk-b465c71a-ad64-49ee-a53a-5e2d604c1013 div.sk-toggleable__content {max-height: 0;max-width: 0;overflow: hidden;text-align: left;background-color: #f0f8ff;}#sk-b465c71a-ad64-49ee-a53a-5e2d604c1013 div.sk-toggleable__content pre {margin: 0.2em;color: black;border-radius: 0.25em;background-color: #f0f8ff;}#sk-b465c71a-ad64-49ee-a53a-5e2d604c1013 input.sk-toggleable__control:checked~div.sk-toggleable__content {max-height: 200px;max-width: 100%;overflow: auto;}#sk-b465c71a-ad64-49ee-a53a-5e2d604c1013 input.sk-toggleable__control:checked~label.sk-toggleable__label-arrow:before {content: \"▾\";}#sk-b465c71a-ad64-49ee-a53a-5e2d604c1013 div.sk-estimator input.sk-toggleable__control:checked~label.sk-toggleable__label {background-color: #d4ebff;}#sk-b465c71a-ad64-49ee-a53a-5e2d604c1013 div.sk-label input.sk-toggleable__control:checked~label.sk-toggleable__label {background-color: #d4ebff;}#sk-b465c71a-ad64-49ee-a53a-5e2d604c1013 input.sk-hidden--visually {border: 0;clip: rect(1px 1px 1px 1px);clip: rect(1px, 1px, 1px, 1px);height: 1px;margin: -1px;overflow: hidden;padding: 0;position: absolute;width: 1px;}#sk-b465c71a-ad64-49ee-a53a-5e2d604c1013 div.sk-estimator {font-family: monospace;background-color: #f0f8ff;border: 1px dotted black;border-radius: 0.25em;box-sizing: border-box;margin-bottom: 0.5em;}#sk-b465c71a-ad64-49ee-a53a-5e2d604c1013 div.sk-estimator:hover {background-color: #d4ebff;}#sk-b465c71a-ad64-49ee-a53a-5e2d604c1013 div.sk-parallel-item::after {content: \"\";width: 100%;border-bottom: 1px solid gray;flex-grow: 1;}#sk-b465c71a-ad64-49ee-a53a-5e2d604c1013 div.sk-label:hover label.sk-toggleable__label {background-color: #d4ebff;}#sk-b465c71a-ad64-49ee-a53a-5e2d604c1013 div.sk-serial::before {content: \"\";position: absolute;border-left: 1px solid gray;box-sizing: border-box;top: 2em;bottom: 0;left: 50%;}#sk-b465c71a-ad64-49ee-a53a-5e2d604c1013 div.sk-serial {display: flex;flex-direction: column;align-items: center;background-color: white;padding-right: 0.2em;padding-left: 0.2em;}#sk-b465c71a-ad64-49ee-a53a-5e2d604c1013 div.sk-item {z-index: 1;}#sk-b465c71a-ad64-49ee-a53a-5e2d604c1013 div.sk-parallel {display: flex;align-items: stretch;justify-content: center;background-color: white;}#sk-b465c71a-ad64-49ee-a53a-5e2d604c1013 div.sk-parallel::before {content: \"\";position: absolute;border-left: 1px solid gray;box-sizing: border-box;top: 2em;bottom: 0;left: 50%;}#sk-b465c71a-ad64-49ee-a53a-5e2d604c1013 div.sk-parallel-item {display: flex;flex-direction: column;position: relative;background-color: white;}#sk-b465c71a-ad64-49ee-a53a-5e2d604c1013 div.sk-parallel-item:first-child::after {align-self: flex-end;width: 50%;}#sk-b465c71a-ad64-49ee-a53a-5e2d604c1013 div.sk-parallel-item:last-child::after {align-self: flex-start;width: 50%;}#sk-b465c71a-ad64-49ee-a53a-5e2d604c1013 div.sk-parallel-item:only-child::after {width: 0;}#sk-b465c71a-ad64-49ee-a53a-5e2d604c1013 div.sk-dashed-wrapped {border: 1px dashed gray;margin: 0 0.4em 0.5em 0.4em;box-sizing: border-box;padding-bottom: 0.4em;background-color: white;position: relative;}#sk-b465c71a-ad64-49ee-a53a-5e2d604c1013 div.sk-label label {font-family: monospace;font-weight: bold;background-color: white;display: inline-block;line-height: 1.2em;}#sk-b465c71a-ad64-49ee-a53a-5e2d604c1013 div.sk-label-container {position: relative;z-index: 2;text-align: center;}#sk-b465c71a-ad64-49ee-a53a-5e2d604c1013 div.sk-container {/* jupyter's `normalize.less` sets `[hidden] { display: none; }` but bootstrap.min.css set `[hidden] { display: none !important; }` so we also need the `!important` here to be able to override the default hidden behavior on the sphinx rendered scikit-learn.org. See: https://github.com/scikit-learn/scikit-learn/issues/21755 */display: inline-block !important;position: relative;}#sk-b465c71a-ad64-49ee-a53a-5e2d604c1013 div.sk-text-repr-fallback {display: none;}</style><div id=\"sk-b465c71a-ad64-49ee-a53a-5e2d604c1013\" class=\"sk-top-container\"><div class=\"sk-text-repr-fallback\"><pre>Pipeline(steps=[(&#x27;scaling&#x27;, StandardScaler()), (&#x27;PCA&#x27;, PCA(n_components=3)),\n",
       "                (&#x27;SVC&#x27;, SVC())])</pre><b>Please rerun this cell to show the HTML repr or trust the notebook.</b></div><div class=\"sk-container\" hidden><div class=\"sk-item sk-dashed-wrapped\"><div class=\"sk-label-container\"><div class=\"sk-label sk-toggleable\"><input class=\"sk-toggleable__control sk-hidden--visually\" id=\"9c12a4b2-d62a-4131-a89e-fe90a85bd7e6\" type=\"checkbox\" ><label for=\"9c12a4b2-d62a-4131-a89e-fe90a85bd7e6\" class=\"sk-toggleable__label sk-toggleable__label-arrow\">Pipeline</label><div class=\"sk-toggleable__content\"><pre>Pipeline(steps=[(&#x27;scaling&#x27;, StandardScaler()), (&#x27;PCA&#x27;, PCA(n_components=3)),\n",
       "                (&#x27;SVC&#x27;, SVC())])</pre></div></div></div><div class=\"sk-serial\"><div class=\"sk-item\"><div class=\"sk-estimator sk-toggleable\"><input class=\"sk-toggleable__control sk-hidden--visually\" id=\"bbc8aed1-0154-44e4-b831-c34c075086a0\" type=\"checkbox\" ><label for=\"bbc8aed1-0154-44e4-b831-c34c075086a0\" class=\"sk-toggleable__label sk-toggleable__label-arrow\">StandardScaler</label><div class=\"sk-toggleable__content\"><pre>StandardScaler()</pre></div></div></div><div class=\"sk-item\"><div class=\"sk-estimator sk-toggleable\"><input class=\"sk-toggleable__control sk-hidden--visually\" id=\"09e6fd32-8421-4233-89ca-ed6b1c23ccca\" type=\"checkbox\" ><label for=\"09e6fd32-8421-4233-89ca-ed6b1c23ccca\" class=\"sk-toggleable__label sk-toggleable__label-arrow\">PCA</label><div class=\"sk-toggleable__content\"><pre>PCA(n_components=3)</pre></div></div></div><div class=\"sk-item\"><div class=\"sk-estimator sk-toggleable\"><input class=\"sk-toggleable__control sk-hidden--visually\" id=\"ca773fe7-d250-490e-829b-aad85798024b\" type=\"checkbox\" ><label for=\"ca773fe7-d250-490e-829b-aad85798024b\" class=\"sk-toggleable__label sk-toggleable__label-arrow\">SVC</label><div class=\"sk-toggleable__content\"><pre>SVC()</pre></div></div></div></div></div></div></div>"
      ],
      "text/plain": [
       "Pipeline(steps=[('scaling', StandardScaler()), ('PCA', PCA(n_components=3)),\n",
       "                ('SVC', SVC())])"
      ]
     },
     "execution_count": 106,
     "metadata": {},
     "output_type": "execute_result"
    }
   ],
   "source": [
    "pipe2.fit(X_train,y_train)"
   ]
  },
  {
   "cell_type": "code",
   "execution_count": 107,
   "metadata": {},
   "outputs": [
    {
     "data": {
      "text/plain": [
       "array([0, 0, 0, 1, 1, 0, 0, 1, 0, 1, 0, 0, 1, 0, 0, 0, 1, 1, 1, 1, 1, 1,\n",
       "       0, 1, 0, 1, 1, 1, 1, 1, 0, 0, 0, 0, 0, 0, 0, 1, 0, 0, 0, 1, 0, 0,\n",
       "       0, 0, 0, 1, 0, 0, 1, 0, 1, 0, 1, 0, 1, 1, 1, 0, 1, 0, 1, 0, 1, 0,\n",
       "       1, 0, 0, 0, 1, 1, 0, 0, 0, 1, 0, 1, 1, 1, 0, 1, 0, 0, 1, 0, 0, 1,\n",
       "       0, 1, 1, 0, 0, 1, 0, 0, 0, 1, 1, 1, 1, 1, 1, 1, 0, 0, 1, 0, 1, 1,\n",
       "       1, 1, 0, 0, 0, 0, 1, 0, 0, 0, 1, 0, 0, 1, 0, 1, 1, 0, 0, 1, 0, 1,\n",
       "       1, 1, 1, 0, 0, 1, 0, 0, 0, 0, 1, 1, 1, 0, 0, 1, 0, 1, 0, 1, 0, 1,\n",
       "       1, 1, 1, 0, 0, 1, 1, 0, 0, 1, 0, 1, 0, 1, 0, 0, 0, 1, 0, 1, 1, 0,\n",
       "       0, 1, 1, 1, 0, 0, 1, 1, 0, 0, 0, 0, 1, 1, 0, 0, 0, 0, 1, 1, 1, 1,\n",
       "       0, 0, 0, 0, 1, 1, 1, 1, 1, 1, 1, 1, 0, 1, 0, 0, 1, 0, 0, 0, 0, 1,\n",
       "       0, 0, 1, 0, 0, 0, 0, 0, 0, 1, 1, 0, 1, 0, 0, 0, 1, 1, 0, 0, 1, 1,\n",
       "       0, 0, 1, 1, 1, 1, 0, 1, 0, 0, 0, 1, 0, 0, 1, 1, 0, 1, 0, 0, 0, 1,\n",
       "       0, 0, 0, 0, 1, 0, 1, 0, 0, 0, 1, 1, 1, 1, 0, 1, 1, 0, 0, 1, 0, 0,\n",
       "       0, 1, 0, 0, 0, 1, 1, 1, 0, 0, 0, 1, 1, 0, 0, 1, 0, 0, 0, 1, 1, 0,\n",
       "       1, 1, 1, 1, 0, 0, 1, 1, 0, 0, 0, 0, 1, 0, 1, 0, 0, 0, 1, 1, 0, 0])"
      ]
     },
     "execution_count": 107,
     "metadata": {},
     "output_type": "execute_result"
    }
   ],
   "source": [
    "pipe2.predict(X_test)"
   ]
  },
  {
   "cell_type": "code",
   "execution_count": 108,
   "metadata": {},
   "outputs": [],
   "source": [
    "# COMPLEX EXAMPLES OF COLUMNS TRANSFORMER"
   ]
  },
  {
   "cell_type": "code",
   "execution_count": 109,
   "metadata": {},
   "outputs": [],
   "source": [
    "from sklearn.impute import SimpleImputer"
   ]
  },
  {
   "cell_type": "code",
   "execution_count": 110,
   "metadata": {},
   "outputs": [],
   "source": [
    "# numerical processing pipeline\n",
    "numeric_processor = Pipeline(\n",
    "    steps = [(\"imputation mean\" , SimpleImputer(missing_values=np.nan,strategy=\"mean\")),\n",
    "            (\"scaler\" , StandardScaler())]\n",
    ")"
   ]
  },
  {
   "cell_type": "code",
   "execution_count": 111,
   "metadata": {},
   "outputs": [
    {
     "data": {
      "text/html": [
       "<style>#sk-b4418aff-1c38-4073-b9ba-c9fdbde7bc88 {color: black;background-color: white;}#sk-b4418aff-1c38-4073-b9ba-c9fdbde7bc88 pre{padding: 0;}#sk-b4418aff-1c38-4073-b9ba-c9fdbde7bc88 div.sk-toggleable {background-color: white;}#sk-b4418aff-1c38-4073-b9ba-c9fdbde7bc88 label.sk-toggleable__label {cursor: pointer;display: block;width: 100%;margin-bottom: 0;padding: 0.3em;box-sizing: border-box;text-align: center;}#sk-b4418aff-1c38-4073-b9ba-c9fdbde7bc88 label.sk-toggleable__label-arrow:before {content: \"▸\";float: left;margin-right: 0.25em;color: #696969;}#sk-b4418aff-1c38-4073-b9ba-c9fdbde7bc88 label.sk-toggleable__label-arrow:hover:before {color: black;}#sk-b4418aff-1c38-4073-b9ba-c9fdbde7bc88 div.sk-estimator:hover label.sk-toggleable__label-arrow:before {color: black;}#sk-b4418aff-1c38-4073-b9ba-c9fdbde7bc88 div.sk-toggleable__content {max-height: 0;max-width: 0;overflow: hidden;text-align: left;background-color: #f0f8ff;}#sk-b4418aff-1c38-4073-b9ba-c9fdbde7bc88 div.sk-toggleable__content pre {margin: 0.2em;color: black;border-radius: 0.25em;background-color: #f0f8ff;}#sk-b4418aff-1c38-4073-b9ba-c9fdbde7bc88 input.sk-toggleable__control:checked~div.sk-toggleable__content {max-height: 200px;max-width: 100%;overflow: auto;}#sk-b4418aff-1c38-4073-b9ba-c9fdbde7bc88 input.sk-toggleable__control:checked~label.sk-toggleable__label-arrow:before {content: \"▾\";}#sk-b4418aff-1c38-4073-b9ba-c9fdbde7bc88 div.sk-estimator input.sk-toggleable__control:checked~label.sk-toggleable__label {background-color: #d4ebff;}#sk-b4418aff-1c38-4073-b9ba-c9fdbde7bc88 div.sk-label input.sk-toggleable__control:checked~label.sk-toggleable__label {background-color: #d4ebff;}#sk-b4418aff-1c38-4073-b9ba-c9fdbde7bc88 input.sk-hidden--visually {border: 0;clip: rect(1px 1px 1px 1px);clip: rect(1px, 1px, 1px, 1px);height: 1px;margin: -1px;overflow: hidden;padding: 0;position: absolute;width: 1px;}#sk-b4418aff-1c38-4073-b9ba-c9fdbde7bc88 div.sk-estimator {font-family: monospace;background-color: #f0f8ff;border: 1px dotted black;border-radius: 0.25em;box-sizing: border-box;margin-bottom: 0.5em;}#sk-b4418aff-1c38-4073-b9ba-c9fdbde7bc88 div.sk-estimator:hover {background-color: #d4ebff;}#sk-b4418aff-1c38-4073-b9ba-c9fdbde7bc88 div.sk-parallel-item::after {content: \"\";width: 100%;border-bottom: 1px solid gray;flex-grow: 1;}#sk-b4418aff-1c38-4073-b9ba-c9fdbde7bc88 div.sk-label:hover label.sk-toggleable__label {background-color: #d4ebff;}#sk-b4418aff-1c38-4073-b9ba-c9fdbde7bc88 div.sk-serial::before {content: \"\";position: absolute;border-left: 1px solid gray;box-sizing: border-box;top: 2em;bottom: 0;left: 50%;}#sk-b4418aff-1c38-4073-b9ba-c9fdbde7bc88 div.sk-serial {display: flex;flex-direction: column;align-items: center;background-color: white;padding-right: 0.2em;padding-left: 0.2em;}#sk-b4418aff-1c38-4073-b9ba-c9fdbde7bc88 div.sk-item {z-index: 1;}#sk-b4418aff-1c38-4073-b9ba-c9fdbde7bc88 div.sk-parallel {display: flex;align-items: stretch;justify-content: center;background-color: white;}#sk-b4418aff-1c38-4073-b9ba-c9fdbde7bc88 div.sk-parallel::before {content: \"\";position: absolute;border-left: 1px solid gray;box-sizing: border-box;top: 2em;bottom: 0;left: 50%;}#sk-b4418aff-1c38-4073-b9ba-c9fdbde7bc88 div.sk-parallel-item {display: flex;flex-direction: column;position: relative;background-color: white;}#sk-b4418aff-1c38-4073-b9ba-c9fdbde7bc88 div.sk-parallel-item:first-child::after {align-self: flex-end;width: 50%;}#sk-b4418aff-1c38-4073-b9ba-c9fdbde7bc88 div.sk-parallel-item:last-child::after {align-self: flex-start;width: 50%;}#sk-b4418aff-1c38-4073-b9ba-c9fdbde7bc88 div.sk-parallel-item:only-child::after {width: 0;}#sk-b4418aff-1c38-4073-b9ba-c9fdbde7bc88 div.sk-dashed-wrapped {border: 1px dashed gray;margin: 0 0.4em 0.5em 0.4em;box-sizing: border-box;padding-bottom: 0.4em;background-color: white;position: relative;}#sk-b4418aff-1c38-4073-b9ba-c9fdbde7bc88 div.sk-label label {font-family: monospace;font-weight: bold;background-color: white;display: inline-block;line-height: 1.2em;}#sk-b4418aff-1c38-4073-b9ba-c9fdbde7bc88 div.sk-label-container {position: relative;z-index: 2;text-align: center;}#sk-b4418aff-1c38-4073-b9ba-c9fdbde7bc88 div.sk-container {/* jupyter's `normalize.less` sets `[hidden] { display: none; }` but bootstrap.min.css set `[hidden] { display: none !important; }` so we also need the `!important` here to be able to override the default hidden behavior on the sphinx rendered scikit-learn.org. See: https://github.com/scikit-learn/scikit-learn/issues/21755 */display: inline-block !important;position: relative;}#sk-b4418aff-1c38-4073-b9ba-c9fdbde7bc88 div.sk-text-repr-fallback {display: none;}</style><div id=\"sk-b4418aff-1c38-4073-b9ba-c9fdbde7bc88\" class=\"sk-top-container\"><div class=\"sk-text-repr-fallback\"><pre>Pipeline(steps=[(&#x27;imputation mean&#x27;, SimpleImputer()),\n",
       "                (&#x27;scaler&#x27;, StandardScaler())])</pre><b>Please rerun this cell to show the HTML repr or trust the notebook.</b></div><div class=\"sk-container\" hidden><div class=\"sk-item sk-dashed-wrapped\"><div class=\"sk-label-container\"><div class=\"sk-label sk-toggleable\"><input class=\"sk-toggleable__control sk-hidden--visually\" id=\"f663a7b4-cffb-42c7-933b-d572ed7f5522\" type=\"checkbox\" ><label for=\"f663a7b4-cffb-42c7-933b-d572ed7f5522\" class=\"sk-toggleable__label sk-toggleable__label-arrow\">Pipeline</label><div class=\"sk-toggleable__content\"><pre>Pipeline(steps=[(&#x27;imputation mean&#x27;, SimpleImputer()),\n",
       "                (&#x27;scaler&#x27;, StandardScaler())])</pre></div></div></div><div class=\"sk-serial\"><div class=\"sk-item\"><div class=\"sk-estimator sk-toggleable\"><input class=\"sk-toggleable__control sk-hidden--visually\" id=\"d8ea51da-ae97-4951-b884-3226b1ac5028\" type=\"checkbox\" ><label for=\"d8ea51da-ae97-4951-b884-3226b1ac5028\" class=\"sk-toggleable__label sk-toggleable__label-arrow\">SimpleImputer</label><div class=\"sk-toggleable__content\"><pre>SimpleImputer()</pre></div></div></div><div class=\"sk-item\"><div class=\"sk-estimator sk-toggleable\"><input class=\"sk-toggleable__control sk-hidden--visually\" id=\"36b0066a-e133-4485-b05c-c42d67983fac\" type=\"checkbox\" ><label for=\"36b0066a-e133-4485-b05c-c42d67983fac\" class=\"sk-toggleable__label sk-toggleable__label-arrow\">StandardScaler</label><div class=\"sk-toggleable__content\"><pre>StandardScaler()</pre></div></div></div></div></div></div></div>"
      ],
      "text/plain": [
       "Pipeline(steps=[('imputation mean', SimpleImputer()),\n",
       "                ('scaler', StandardScaler())])"
      ]
     },
     "execution_count": 111,
     "metadata": {},
     "output_type": "execute_result"
    }
   ],
   "source": [
    "numeric_processor"
   ]
  },
  {
   "cell_type": "code",
   "execution_count": 112,
   "metadata": {},
   "outputs": [],
   "source": [
    "# categorical processing\n",
    "categorical_processor = Pipeline(\n",
    "    steps = [(\"imputation_constant\" , SimpleImputer(fill_value=\"missing\",strategy=\"constant\")),\n",
    "            (\"onehot\" , OneHotEncoder(handle_unknown = \"ignore\"))]\n",
    ")\n"
   ]
  },
  {
   "cell_type": "code",
   "execution_count": 113,
   "metadata": {},
   "outputs": [
    {
     "data": {
      "text/html": [
       "<style>#sk-8961962c-ab6e-43b0-8d34-be88e187de7c {color: black;background-color: white;}#sk-8961962c-ab6e-43b0-8d34-be88e187de7c pre{padding: 0;}#sk-8961962c-ab6e-43b0-8d34-be88e187de7c div.sk-toggleable {background-color: white;}#sk-8961962c-ab6e-43b0-8d34-be88e187de7c label.sk-toggleable__label {cursor: pointer;display: block;width: 100%;margin-bottom: 0;padding: 0.3em;box-sizing: border-box;text-align: center;}#sk-8961962c-ab6e-43b0-8d34-be88e187de7c label.sk-toggleable__label-arrow:before {content: \"▸\";float: left;margin-right: 0.25em;color: #696969;}#sk-8961962c-ab6e-43b0-8d34-be88e187de7c label.sk-toggleable__label-arrow:hover:before {color: black;}#sk-8961962c-ab6e-43b0-8d34-be88e187de7c div.sk-estimator:hover label.sk-toggleable__label-arrow:before {color: black;}#sk-8961962c-ab6e-43b0-8d34-be88e187de7c div.sk-toggleable__content {max-height: 0;max-width: 0;overflow: hidden;text-align: left;background-color: #f0f8ff;}#sk-8961962c-ab6e-43b0-8d34-be88e187de7c div.sk-toggleable__content pre {margin: 0.2em;color: black;border-radius: 0.25em;background-color: #f0f8ff;}#sk-8961962c-ab6e-43b0-8d34-be88e187de7c input.sk-toggleable__control:checked~div.sk-toggleable__content {max-height: 200px;max-width: 100%;overflow: auto;}#sk-8961962c-ab6e-43b0-8d34-be88e187de7c input.sk-toggleable__control:checked~label.sk-toggleable__label-arrow:before {content: \"▾\";}#sk-8961962c-ab6e-43b0-8d34-be88e187de7c div.sk-estimator input.sk-toggleable__control:checked~label.sk-toggleable__label {background-color: #d4ebff;}#sk-8961962c-ab6e-43b0-8d34-be88e187de7c div.sk-label input.sk-toggleable__control:checked~label.sk-toggleable__label {background-color: #d4ebff;}#sk-8961962c-ab6e-43b0-8d34-be88e187de7c input.sk-hidden--visually {border: 0;clip: rect(1px 1px 1px 1px);clip: rect(1px, 1px, 1px, 1px);height: 1px;margin: -1px;overflow: hidden;padding: 0;position: absolute;width: 1px;}#sk-8961962c-ab6e-43b0-8d34-be88e187de7c div.sk-estimator {font-family: monospace;background-color: #f0f8ff;border: 1px dotted black;border-radius: 0.25em;box-sizing: border-box;margin-bottom: 0.5em;}#sk-8961962c-ab6e-43b0-8d34-be88e187de7c div.sk-estimator:hover {background-color: #d4ebff;}#sk-8961962c-ab6e-43b0-8d34-be88e187de7c div.sk-parallel-item::after {content: \"\";width: 100%;border-bottom: 1px solid gray;flex-grow: 1;}#sk-8961962c-ab6e-43b0-8d34-be88e187de7c div.sk-label:hover label.sk-toggleable__label {background-color: #d4ebff;}#sk-8961962c-ab6e-43b0-8d34-be88e187de7c div.sk-serial::before {content: \"\";position: absolute;border-left: 1px solid gray;box-sizing: border-box;top: 2em;bottom: 0;left: 50%;}#sk-8961962c-ab6e-43b0-8d34-be88e187de7c div.sk-serial {display: flex;flex-direction: column;align-items: center;background-color: white;padding-right: 0.2em;padding-left: 0.2em;}#sk-8961962c-ab6e-43b0-8d34-be88e187de7c div.sk-item {z-index: 1;}#sk-8961962c-ab6e-43b0-8d34-be88e187de7c div.sk-parallel {display: flex;align-items: stretch;justify-content: center;background-color: white;}#sk-8961962c-ab6e-43b0-8d34-be88e187de7c div.sk-parallel::before {content: \"\";position: absolute;border-left: 1px solid gray;box-sizing: border-box;top: 2em;bottom: 0;left: 50%;}#sk-8961962c-ab6e-43b0-8d34-be88e187de7c div.sk-parallel-item {display: flex;flex-direction: column;position: relative;background-color: white;}#sk-8961962c-ab6e-43b0-8d34-be88e187de7c div.sk-parallel-item:first-child::after {align-self: flex-end;width: 50%;}#sk-8961962c-ab6e-43b0-8d34-be88e187de7c div.sk-parallel-item:last-child::after {align-self: flex-start;width: 50%;}#sk-8961962c-ab6e-43b0-8d34-be88e187de7c div.sk-parallel-item:only-child::after {width: 0;}#sk-8961962c-ab6e-43b0-8d34-be88e187de7c div.sk-dashed-wrapped {border: 1px dashed gray;margin: 0 0.4em 0.5em 0.4em;box-sizing: border-box;padding-bottom: 0.4em;background-color: white;position: relative;}#sk-8961962c-ab6e-43b0-8d34-be88e187de7c div.sk-label label {font-family: monospace;font-weight: bold;background-color: white;display: inline-block;line-height: 1.2em;}#sk-8961962c-ab6e-43b0-8d34-be88e187de7c div.sk-label-container {position: relative;z-index: 2;text-align: center;}#sk-8961962c-ab6e-43b0-8d34-be88e187de7c div.sk-container {/* jupyter's `normalize.less` sets `[hidden] { display: none; }` but bootstrap.min.css set `[hidden] { display: none !important; }` so we also need the `!important` here to be able to override the default hidden behavior on the sphinx rendered scikit-learn.org. See: https://github.com/scikit-learn/scikit-learn/issues/21755 */display: inline-block !important;position: relative;}#sk-8961962c-ab6e-43b0-8d34-be88e187de7c div.sk-text-repr-fallback {display: none;}</style><div id=\"sk-8961962c-ab6e-43b0-8d34-be88e187de7c\" class=\"sk-top-container\"><div class=\"sk-text-repr-fallback\"><pre>Pipeline(steps=[(&#x27;imputation_constant&#x27;,\n",
       "                 SimpleImputer(fill_value=&#x27;missing&#x27;, strategy=&#x27;constant&#x27;)),\n",
       "                (&#x27;onehot&#x27;, OneHotEncoder(handle_unknown=&#x27;ignore&#x27;))])</pre><b>Please rerun this cell to show the HTML repr or trust the notebook.</b></div><div class=\"sk-container\" hidden><div class=\"sk-item sk-dashed-wrapped\"><div class=\"sk-label-container\"><div class=\"sk-label sk-toggleable\"><input class=\"sk-toggleable__control sk-hidden--visually\" id=\"8a55dd3c-772f-45ff-be3c-ca0bfcb5ea1f\" type=\"checkbox\" ><label for=\"8a55dd3c-772f-45ff-be3c-ca0bfcb5ea1f\" class=\"sk-toggleable__label sk-toggleable__label-arrow\">Pipeline</label><div class=\"sk-toggleable__content\"><pre>Pipeline(steps=[(&#x27;imputation_constant&#x27;,\n",
       "                 SimpleImputer(fill_value=&#x27;missing&#x27;, strategy=&#x27;constant&#x27;)),\n",
       "                (&#x27;onehot&#x27;, OneHotEncoder(handle_unknown=&#x27;ignore&#x27;))])</pre></div></div></div><div class=\"sk-serial\"><div class=\"sk-item\"><div class=\"sk-estimator sk-toggleable\"><input class=\"sk-toggleable__control sk-hidden--visually\" id=\"3eb98754-bff7-441b-b145-74e5e870551d\" type=\"checkbox\" ><label for=\"3eb98754-bff7-441b-b145-74e5e870551d\" class=\"sk-toggleable__label sk-toggleable__label-arrow\">SimpleImputer</label><div class=\"sk-toggleable__content\"><pre>SimpleImputer(fill_value=&#x27;missing&#x27;, strategy=&#x27;constant&#x27;)</pre></div></div></div><div class=\"sk-item\"><div class=\"sk-estimator sk-toggleable\"><input class=\"sk-toggleable__control sk-hidden--visually\" id=\"f0d7b1cc-3163-4fd1-a475-60b2213f4251\" type=\"checkbox\" ><label for=\"f0d7b1cc-3163-4fd1-a475-60b2213f4251\" class=\"sk-toggleable__label sk-toggleable__label-arrow\">OneHotEncoder</label><div class=\"sk-toggleable__content\"><pre>OneHotEncoder(handle_unknown=&#x27;ignore&#x27;)</pre></div></div></div></div></div></div></div>"
      ],
      "text/plain": [
       "Pipeline(steps=[('imputation_constant',\n",
       "                 SimpleImputer(fill_value='missing', strategy='constant')),\n",
       "                ('onehot', OneHotEncoder(handle_unknown='ignore'))])"
      ]
     },
     "execution_count": 113,
     "metadata": {},
     "output_type": "execute_result"
    }
   ],
   "source": [
    "categorical_processor"
   ]
  },
  {
   "cell_type": "code",
   "execution_count": 116,
   "metadata": {},
   "outputs": [],
   "source": [
    "preprocessor=ColumnTransformer(\n",
    "    [(\"categorical\",categorical_processor,[\"gender\",\"City\"]),\n",
    "    (\"numerical\",numeric_processor,[\"age\",\"height\"])]\n",
    "\n",
    ")"
   ]
  },
  {
   "cell_type": "code",
   "execution_count": 117,
   "metadata": {},
   "outputs": [
    {
     "data": {
      "text/html": [
       "<style>#sk-3ccb9dc7-6d3d-413f-a7d1-d890aefbd910 {color: black;background-color: white;}#sk-3ccb9dc7-6d3d-413f-a7d1-d890aefbd910 pre{padding: 0;}#sk-3ccb9dc7-6d3d-413f-a7d1-d890aefbd910 div.sk-toggleable {background-color: white;}#sk-3ccb9dc7-6d3d-413f-a7d1-d890aefbd910 label.sk-toggleable__label {cursor: pointer;display: block;width: 100%;margin-bottom: 0;padding: 0.3em;box-sizing: border-box;text-align: center;}#sk-3ccb9dc7-6d3d-413f-a7d1-d890aefbd910 label.sk-toggleable__label-arrow:before {content: \"▸\";float: left;margin-right: 0.25em;color: #696969;}#sk-3ccb9dc7-6d3d-413f-a7d1-d890aefbd910 label.sk-toggleable__label-arrow:hover:before {color: black;}#sk-3ccb9dc7-6d3d-413f-a7d1-d890aefbd910 div.sk-estimator:hover label.sk-toggleable__label-arrow:before {color: black;}#sk-3ccb9dc7-6d3d-413f-a7d1-d890aefbd910 div.sk-toggleable__content {max-height: 0;max-width: 0;overflow: hidden;text-align: left;background-color: #f0f8ff;}#sk-3ccb9dc7-6d3d-413f-a7d1-d890aefbd910 div.sk-toggleable__content pre {margin: 0.2em;color: black;border-radius: 0.25em;background-color: #f0f8ff;}#sk-3ccb9dc7-6d3d-413f-a7d1-d890aefbd910 input.sk-toggleable__control:checked~div.sk-toggleable__content {max-height: 200px;max-width: 100%;overflow: auto;}#sk-3ccb9dc7-6d3d-413f-a7d1-d890aefbd910 input.sk-toggleable__control:checked~label.sk-toggleable__label-arrow:before {content: \"▾\";}#sk-3ccb9dc7-6d3d-413f-a7d1-d890aefbd910 div.sk-estimator input.sk-toggleable__control:checked~label.sk-toggleable__label {background-color: #d4ebff;}#sk-3ccb9dc7-6d3d-413f-a7d1-d890aefbd910 div.sk-label input.sk-toggleable__control:checked~label.sk-toggleable__label {background-color: #d4ebff;}#sk-3ccb9dc7-6d3d-413f-a7d1-d890aefbd910 input.sk-hidden--visually {border: 0;clip: rect(1px 1px 1px 1px);clip: rect(1px, 1px, 1px, 1px);height: 1px;margin: -1px;overflow: hidden;padding: 0;position: absolute;width: 1px;}#sk-3ccb9dc7-6d3d-413f-a7d1-d890aefbd910 div.sk-estimator {font-family: monospace;background-color: #f0f8ff;border: 1px dotted black;border-radius: 0.25em;box-sizing: border-box;margin-bottom: 0.5em;}#sk-3ccb9dc7-6d3d-413f-a7d1-d890aefbd910 div.sk-estimator:hover {background-color: #d4ebff;}#sk-3ccb9dc7-6d3d-413f-a7d1-d890aefbd910 div.sk-parallel-item::after {content: \"\";width: 100%;border-bottom: 1px solid gray;flex-grow: 1;}#sk-3ccb9dc7-6d3d-413f-a7d1-d890aefbd910 div.sk-label:hover label.sk-toggleable__label {background-color: #d4ebff;}#sk-3ccb9dc7-6d3d-413f-a7d1-d890aefbd910 div.sk-serial::before {content: \"\";position: absolute;border-left: 1px solid gray;box-sizing: border-box;top: 2em;bottom: 0;left: 50%;}#sk-3ccb9dc7-6d3d-413f-a7d1-d890aefbd910 div.sk-serial {display: flex;flex-direction: column;align-items: center;background-color: white;padding-right: 0.2em;padding-left: 0.2em;}#sk-3ccb9dc7-6d3d-413f-a7d1-d890aefbd910 div.sk-item {z-index: 1;}#sk-3ccb9dc7-6d3d-413f-a7d1-d890aefbd910 div.sk-parallel {display: flex;align-items: stretch;justify-content: center;background-color: white;}#sk-3ccb9dc7-6d3d-413f-a7d1-d890aefbd910 div.sk-parallel::before {content: \"\";position: absolute;border-left: 1px solid gray;box-sizing: border-box;top: 2em;bottom: 0;left: 50%;}#sk-3ccb9dc7-6d3d-413f-a7d1-d890aefbd910 div.sk-parallel-item {display: flex;flex-direction: column;position: relative;background-color: white;}#sk-3ccb9dc7-6d3d-413f-a7d1-d890aefbd910 div.sk-parallel-item:first-child::after {align-self: flex-end;width: 50%;}#sk-3ccb9dc7-6d3d-413f-a7d1-d890aefbd910 div.sk-parallel-item:last-child::after {align-self: flex-start;width: 50%;}#sk-3ccb9dc7-6d3d-413f-a7d1-d890aefbd910 div.sk-parallel-item:only-child::after {width: 0;}#sk-3ccb9dc7-6d3d-413f-a7d1-d890aefbd910 div.sk-dashed-wrapped {border: 1px dashed gray;margin: 0 0.4em 0.5em 0.4em;box-sizing: border-box;padding-bottom: 0.4em;background-color: white;position: relative;}#sk-3ccb9dc7-6d3d-413f-a7d1-d890aefbd910 div.sk-label label {font-family: monospace;font-weight: bold;background-color: white;display: inline-block;line-height: 1.2em;}#sk-3ccb9dc7-6d3d-413f-a7d1-d890aefbd910 div.sk-label-container {position: relative;z-index: 2;text-align: center;}#sk-3ccb9dc7-6d3d-413f-a7d1-d890aefbd910 div.sk-container {/* jupyter's `normalize.less` sets `[hidden] { display: none; }` but bootstrap.min.css set `[hidden] { display: none !important; }` so we also need the `!important` here to be able to override the default hidden behavior on the sphinx rendered scikit-learn.org. See: https://github.com/scikit-learn/scikit-learn/issues/21755 */display: inline-block !important;position: relative;}#sk-3ccb9dc7-6d3d-413f-a7d1-d890aefbd910 div.sk-text-repr-fallback {display: none;}</style><div id=\"sk-3ccb9dc7-6d3d-413f-a7d1-d890aefbd910\" class=\"sk-top-container\"><div class=\"sk-text-repr-fallback\"><pre>ColumnTransformer(transformers=[(&#x27;categorical&#x27;,\n",
       "                                 Pipeline(steps=[(&#x27;imputation_constant&#x27;,\n",
       "                                                  SimpleImputer(fill_value=&#x27;missing&#x27;,\n",
       "                                                                strategy=&#x27;constant&#x27;)),\n",
       "                                                 (&#x27;onehot&#x27;,\n",
       "                                                  OneHotEncoder(handle_unknown=&#x27;ignore&#x27;))]),\n",
       "                                 [&#x27;gender&#x27;, &#x27;City&#x27;]),\n",
       "                                (&#x27;numerical&#x27;,\n",
       "                                 Pipeline(steps=[(&#x27;imputation mean&#x27;,\n",
       "                                                  SimpleImputer()),\n",
       "                                                 (&#x27;scaler&#x27;, StandardScaler())]),\n",
       "                                 [&#x27;age&#x27;, &#x27;height&#x27;])])</pre><b>Please rerun this cell to show the HTML repr or trust the notebook.</b></div><div class=\"sk-container\" hidden><div class=\"sk-item sk-dashed-wrapped\"><div class=\"sk-label-container\"><div class=\"sk-label sk-toggleable\"><input class=\"sk-toggleable__control sk-hidden--visually\" id=\"ba388596-d507-4d0c-b46a-0a6bec6b2c40\" type=\"checkbox\" ><label for=\"ba388596-d507-4d0c-b46a-0a6bec6b2c40\" class=\"sk-toggleable__label sk-toggleable__label-arrow\">ColumnTransformer</label><div class=\"sk-toggleable__content\"><pre>ColumnTransformer(transformers=[(&#x27;categorical&#x27;,\n",
       "                                 Pipeline(steps=[(&#x27;imputation_constant&#x27;,\n",
       "                                                  SimpleImputer(fill_value=&#x27;missing&#x27;,\n",
       "                                                                strategy=&#x27;constant&#x27;)),\n",
       "                                                 (&#x27;onehot&#x27;,\n",
       "                                                  OneHotEncoder(handle_unknown=&#x27;ignore&#x27;))]),\n",
       "                                 [&#x27;gender&#x27;, &#x27;City&#x27;]),\n",
       "                                (&#x27;numerical&#x27;,\n",
       "                                 Pipeline(steps=[(&#x27;imputation mean&#x27;,\n",
       "                                                  SimpleImputer()),\n",
       "                                                 (&#x27;scaler&#x27;, StandardScaler())]),\n",
       "                                 [&#x27;age&#x27;, &#x27;height&#x27;])])</pre></div></div></div><div class=\"sk-parallel\"><div class=\"sk-parallel-item\"><div class=\"sk-item\"><div class=\"sk-label-container\"><div class=\"sk-label sk-toggleable\"><input class=\"sk-toggleable__control sk-hidden--visually\" id=\"f2dd4945-b202-4ca7-9d9a-66d1ba99948d\" type=\"checkbox\" ><label for=\"f2dd4945-b202-4ca7-9d9a-66d1ba99948d\" class=\"sk-toggleable__label sk-toggleable__label-arrow\">categorical</label><div class=\"sk-toggleable__content\"><pre>[&#x27;gender&#x27;, &#x27;City&#x27;]</pre></div></div></div><div class=\"sk-serial\"><div class=\"sk-item\"><div class=\"sk-serial\"><div class=\"sk-item\"><div class=\"sk-estimator sk-toggleable\"><input class=\"sk-toggleable__control sk-hidden--visually\" id=\"c88a5885-1559-4979-8895-7d425623f558\" type=\"checkbox\" ><label for=\"c88a5885-1559-4979-8895-7d425623f558\" class=\"sk-toggleable__label sk-toggleable__label-arrow\">SimpleImputer</label><div class=\"sk-toggleable__content\"><pre>SimpleImputer(fill_value=&#x27;missing&#x27;, strategy=&#x27;constant&#x27;)</pre></div></div></div><div class=\"sk-item\"><div class=\"sk-estimator sk-toggleable\"><input class=\"sk-toggleable__control sk-hidden--visually\" id=\"69bf5498-fbe5-47ec-bf46-667da83e70e6\" type=\"checkbox\" ><label for=\"69bf5498-fbe5-47ec-bf46-667da83e70e6\" class=\"sk-toggleable__label sk-toggleable__label-arrow\">OneHotEncoder</label><div class=\"sk-toggleable__content\"><pre>OneHotEncoder(handle_unknown=&#x27;ignore&#x27;)</pre></div></div></div></div></div></div></div></div><div class=\"sk-parallel-item\"><div class=\"sk-item\"><div class=\"sk-label-container\"><div class=\"sk-label sk-toggleable\"><input class=\"sk-toggleable__control sk-hidden--visually\" id=\"65e9725e-767c-49b7-b72e-d656389b3cf0\" type=\"checkbox\" ><label for=\"65e9725e-767c-49b7-b72e-d656389b3cf0\" class=\"sk-toggleable__label sk-toggleable__label-arrow\">numerical</label><div class=\"sk-toggleable__content\"><pre>[&#x27;age&#x27;, &#x27;height&#x27;]</pre></div></div></div><div class=\"sk-serial\"><div class=\"sk-item\"><div class=\"sk-serial\"><div class=\"sk-item\"><div class=\"sk-estimator sk-toggleable\"><input class=\"sk-toggleable__control sk-hidden--visually\" id=\"4bdd423e-aae3-4e00-b2ed-3ac756b0702a\" type=\"checkbox\" ><label for=\"4bdd423e-aae3-4e00-b2ed-3ac756b0702a\" class=\"sk-toggleable__label sk-toggleable__label-arrow\">SimpleImputer</label><div class=\"sk-toggleable__content\"><pre>SimpleImputer()</pre></div></div></div><div class=\"sk-item\"><div class=\"sk-estimator sk-toggleable\"><input class=\"sk-toggleable__control sk-hidden--visually\" id=\"0fb86289-e01e-4d3f-a8bd-5bab1115aa8d\" type=\"checkbox\" ><label for=\"0fb86289-e01e-4d3f-a8bd-5bab1115aa8d\" class=\"sk-toggleable__label sk-toggleable__label-arrow\">StandardScaler</label><div class=\"sk-toggleable__content\"><pre>StandardScaler()</pre></div></div></div></div></div></div></div></div></div></div></div></div>"
      ],
      "text/plain": [
       "ColumnTransformer(transformers=[('categorical',\n",
       "                                 Pipeline(steps=[('imputation_constant',\n",
       "                                                  SimpleImputer(fill_value='missing',\n",
       "                                                                strategy='constant')),\n",
       "                                                 ('onehot',\n",
       "                                                  OneHotEncoder(handle_unknown='ignore'))]),\n",
       "                                 ['gender', 'City']),\n",
       "                                ('numerical',\n",
       "                                 Pipeline(steps=[('imputation mean',\n",
       "                                                  SimpleImputer()),\n",
       "                                                 ('scaler', StandardScaler())]),\n",
       "                                 ['age', 'height'])])"
      ]
     },
     "execution_count": 117,
     "metadata": {},
     "output_type": "execute_result"
    }
   ],
   "source": [
    "preprocessor"
   ]
  },
  {
   "cell_type": "code",
   "execution_count": 118,
   "metadata": {},
   "outputs": [],
   "source": [
    "from sklearn.pipeline import make_pipeline"
   ]
  },
  {
   "cell_type": "code",
   "execution_count": 119,
   "metadata": {},
   "outputs": [],
   "source": [
    "pipe = make_pipeline(preprocessor,LogisticRegression())"
   ]
  },
  {
   "cell_type": "code",
   "execution_count": 120,
   "metadata": {},
   "outputs": [
    {
     "data": {
      "text/html": [
       "<style>#sk-8759a454-e34d-4735-95f1-0df8771b2d66 {color: black;background-color: white;}#sk-8759a454-e34d-4735-95f1-0df8771b2d66 pre{padding: 0;}#sk-8759a454-e34d-4735-95f1-0df8771b2d66 div.sk-toggleable {background-color: white;}#sk-8759a454-e34d-4735-95f1-0df8771b2d66 label.sk-toggleable__label {cursor: pointer;display: block;width: 100%;margin-bottom: 0;padding: 0.3em;box-sizing: border-box;text-align: center;}#sk-8759a454-e34d-4735-95f1-0df8771b2d66 label.sk-toggleable__label-arrow:before {content: \"▸\";float: left;margin-right: 0.25em;color: #696969;}#sk-8759a454-e34d-4735-95f1-0df8771b2d66 label.sk-toggleable__label-arrow:hover:before {color: black;}#sk-8759a454-e34d-4735-95f1-0df8771b2d66 div.sk-estimator:hover label.sk-toggleable__label-arrow:before {color: black;}#sk-8759a454-e34d-4735-95f1-0df8771b2d66 div.sk-toggleable__content {max-height: 0;max-width: 0;overflow: hidden;text-align: left;background-color: #f0f8ff;}#sk-8759a454-e34d-4735-95f1-0df8771b2d66 div.sk-toggleable__content pre {margin: 0.2em;color: black;border-radius: 0.25em;background-color: #f0f8ff;}#sk-8759a454-e34d-4735-95f1-0df8771b2d66 input.sk-toggleable__control:checked~div.sk-toggleable__content {max-height: 200px;max-width: 100%;overflow: auto;}#sk-8759a454-e34d-4735-95f1-0df8771b2d66 input.sk-toggleable__control:checked~label.sk-toggleable__label-arrow:before {content: \"▾\";}#sk-8759a454-e34d-4735-95f1-0df8771b2d66 div.sk-estimator input.sk-toggleable__control:checked~label.sk-toggleable__label {background-color: #d4ebff;}#sk-8759a454-e34d-4735-95f1-0df8771b2d66 div.sk-label input.sk-toggleable__control:checked~label.sk-toggleable__label {background-color: #d4ebff;}#sk-8759a454-e34d-4735-95f1-0df8771b2d66 input.sk-hidden--visually {border: 0;clip: rect(1px 1px 1px 1px);clip: rect(1px, 1px, 1px, 1px);height: 1px;margin: -1px;overflow: hidden;padding: 0;position: absolute;width: 1px;}#sk-8759a454-e34d-4735-95f1-0df8771b2d66 div.sk-estimator {font-family: monospace;background-color: #f0f8ff;border: 1px dotted black;border-radius: 0.25em;box-sizing: border-box;margin-bottom: 0.5em;}#sk-8759a454-e34d-4735-95f1-0df8771b2d66 div.sk-estimator:hover {background-color: #d4ebff;}#sk-8759a454-e34d-4735-95f1-0df8771b2d66 div.sk-parallel-item::after {content: \"\";width: 100%;border-bottom: 1px solid gray;flex-grow: 1;}#sk-8759a454-e34d-4735-95f1-0df8771b2d66 div.sk-label:hover label.sk-toggleable__label {background-color: #d4ebff;}#sk-8759a454-e34d-4735-95f1-0df8771b2d66 div.sk-serial::before {content: \"\";position: absolute;border-left: 1px solid gray;box-sizing: border-box;top: 2em;bottom: 0;left: 50%;}#sk-8759a454-e34d-4735-95f1-0df8771b2d66 div.sk-serial {display: flex;flex-direction: column;align-items: center;background-color: white;padding-right: 0.2em;padding-left: 0.2em;}#sk-8759a454-e34d-4735-95f1-0df8771b2d66 div.sk-item {z-index: 1;}#sk-8759a454-e34d-4735-95f1-0df8771b2d66 div.sk-parallel {display: flex;align-items: stretch;justify-content: center;background-color: white;}#sk-8759a454-e34d-4735-95f1-0df8771b2d66 div.sk-parallel::before {content: \"\";position: absolute;border-left: 1px solid gray;box-sizing: border-box;top: 2em;bottom: 0;left: 50%;}#sk-8759a454-e34d-4735-95f1-0df8771b2d66 div.sk-parallel-item {display: flex;flex-direction: column;position: relative;background-color: white;}#sk-8759a454-e34d-4735-95f1-0df8771b2d66 div.sk-parallel-item:first-child::after {align-self: flex-end;width: 50%;}#sk-8759a454-e34d-4735-95f1-0df8771b2d66 div.sk-parallel-item:last-child::after {align-self: flex-start;width: 50%;}#sk-8759a454-e34d-4735-95f1-0df8771b2d66 div.sk-parallel-item:only-child::after {width: 0;}#sk-8759a454-e34d-4735-95f1-0df8771b2d66 div.sk-dashed-wrapped {border: 1px dashed gray;margin: 0 0.4em 0.5em 0.4em;box-sizing: border-box;padding-bottom: 0.4em;background-color: white;position: relative;}#sk-8759a454-e34d-4735-95f1-0df8771b2d66 div.sk-label label {font-family: monospace;font-weight: bold;background-color: white;display: inline-block;line-height: 1.2em;}#sk-8759a454-e34d-4735-95f1-0df8771b2d66 div.sk-label-container {position: relative;z-index: 2;text-align: center;}#sk-8759a454-e34d-4735-95f1-0df8771b2d66 div.sk-container {/* jupyter's `normalize.less` sets `[hidden] { display: none; }` but bootstrap.min.css set `[hidden] { display: none !important; }` so we also need the `!important` here to be able to override the default hidden behavior on the sphinx rendered scikit-learn.org. See: https://github.com/scikit-learn/scikit-learn/issues/21755 */display: inline-block !important;position: relative;}#sk-8759a454-e34d-4735-95f1-0df8771b2d66 div.sk-text-repr-fallback {display: none;}</style><div id=\"sk-8759a454-e34d-4735-95f1-0df8771b2d66\" class=\"sk-top-container\"><div class=\"sk-text-repr-fallback\"><pre>Pipeline(steps=[(&#x27;columntransformer&#x27;,\n",
       "                 ColumnTransformer(transformers=[(&#x27;categorical&#x27;,\n",
       "                                                  Pipeline(steps=[(&#x27;imputation_constant&#x27;,\n",
       "                                                                   SimpleImputer(fill_value=&#x27;missing&#x27;,\n",
       "                                                                                 strategy=&#x27;constant&#x27;)),\n",
       "                                                                  (&#x27;onehot&#x27;,\n",
       "                                                                   OneHotEncoder(handle_unknown=&#x27;ignore&#x27;))]),\n",
       "                                                  [&#x27;gender&#x27;, &#x27;City&#x27;]),\n",
       "                                                 (&#x27;numerical&#x27;,\n",
       "                                                  Pipeline(steps=[(&#x27;imputation &#x27;\n",
       "                                                                   &#x27;mean&#x27;,\n",
       "                                                                   SimpleImputer()),\n",
       "                                                                  (&#x27;scaler&#x27;,\n",
       "                                                                   StandardScaler())]),\n",
       "                                                  [&#x27;age&#x27;, &#x27;height&#x27;])])),\n",
       "                (&#x27;logisticregression&#x27;, LogisticRegression())])</pre><b>Please rerun this cell to show the HTML repr or trust the notebook.</b></div><div class=\"sk-container\" hidden><div class=\"sk-item sk-dashed-wrapped\"><div class=\"sk-label-container\"><div class=\"sk-label sk-toggleable\"><input class=\"sk-toggleable__control sk-hidden--visually\" id=\"3a4fe8d8-8aa9-448a-b2f5-f4b275c30cd3\" type=\"checkbox\" ><label for=\"3a4fe8d8-8aa9-448a-b2f5-f4b275c30cd3\" class=\"sk-toggleable__label sk-toggleable__label-arrow\">Pipeline</label><div class=\"sk-toggleable__content\"><pre>Pipeline(steps=[(&#x27;columntransformer&#x27;,\n",
       "                 ColumnTransformer(transformers=[(&#x27;categorical&#x27;,\n",
       "                                                  Pipeline(steps=[(&#x27;imputation_constant&#x27;,\n",
       "                                                                   SimpleImputer(fill_value=&#x27;missing&#x27;,\n",
       "                                                                                 strategy=&#x27;constant&#x27;)),\n",
       "                                                                  (&#x27;onehot&#x27;,\n",
       "                                                                   OneHotEncoder(handle_unknown=&#x27;ignore&#x27;))]),\n",
       "                                                  [&#x27;gender&#x27;, &#x27;City&#x27;]),\n",
       "                                                 (&#x27;numerical&#x27;,\n",
       "                                                  Pipeline(steps=[(&#x27;imputation &#x27;\n",
       "                                                                   &#x27;mean&#x27;,\n",
       "                                                                   SimpleImputer()),\n",
       "                                                                  (&#x27;scaler&#x27;,\n",
       "                                                                   StandardScaler())]),\n",
       "                                                  [&#x27;age&#x27;, &#x27;height&#x27;])])),\n",
       "                (&#x27;logisticregression&#x27;, LogisticRegression())])</pre></div></div></div><div class=\"sk-serial\"><div class=\"sk-item sk-dashed-wrapped\"><div class=\"sk-label-container\"><div class=\"sk-label sk-toggleable\"><input class=\"sk-toggleable__control sk-hidden--visually\" id=\"d068aede-a178-4a0c-9c0b-da6785292b14\" type=\"checkbox\" ><label for=\"d068aede-a178-4a0c-9c0b-da6785292b14\" class=\"sk-toggleable__label sk-toggleable__label-arrow\">columntransformer: ColumnTransformer</label><div class=\"sk-toggleable__content\"><pre>ColumnTransformer(transformers=[(&#x27;categorical&#x27;,\n",
       "                                 Pipeline(steps=[(&#x27;imputation_constant&#x27;,\n",
       "                                                  SimpleImputer(fill_value=&#x27;missing&#x27;,\n",
       "                                                                strategy=&#x27;constant&#x27;)),\n",
       "                                                 (&#x27;onehot&#x27;,\n",
       "                                                  OneHotEncoder(handle_unknown=&#x27;ignore&#x27;))]),\n",
       "                                 [&#x27;gender&#x27;, &#x27;City&#x27;]),\n",
       "                                (&#x27;numerical&#x27;,\n",
       "                                 Pipeline(steps=[(&#x27;imputation mean&#x27;,\n",
       "                                                  SimpleImputer()),\n",
       "                                                 (&#x27;scaler&#x27;, StandardScaler())]),\n",
       "                                 [&#x27;age&#x27;, &#x27;height&#x27;])])</pre></div></div></div><div class=\"sk-parallel\"><div class=\"sk-parallel-item\"><div class=\"sk-item\"><div class=\"sk-label-container\"><div class=\"sk-label sk-toggleable\"><input class=\"sk-toggleable__control sk-hidden--visually\" id=\"acab5199-3ac9-424b-96ba-243926322170\" type=\"checkbox\" ><label for=\"acab5199-3ac9-424b-96ba-243926322170\" class=\"sk-toggleable__label sk-toggleable__label-arrow\">categorical</label><div class=\"sk-toggleable__content\"><pre>[&#x27;gender&#x27;, &#x27;City&#x27;]</pre></div></div></div><div class=\"sk-serial\"><div class=\"sk-item\"><div class=\"sk-serial\"><div class=\"sk-item\"><div class=\"sk-estimator sk-toggleable\"><input class=\"sk-toggleable__control sk-hidden--visually\" id=\"86f2ceab-b3a4-4968-abb0-51be276ecf97\" type=\"checkbox\" ><label for=\"86f2ceab-b3a4-4968-abb0-51be276ecf97\" class=\"sk-toggleable__label sk-toggleable__label-arrow\">SimpleImputer</label><div class=\"sk-toggleable__content\"><pre>SimpleImputer(fill_value=&#x27;missing&#x27;, strategy=&#x27;constant&#x27;)</pre></div></div></div><div class=\"sk-item\"><div class=\"sk-estimator sk-toggleable\"><input class=\"sk-toggleable__control sk-hidden--visually\" id=\"a180190d-7616-4700-8ce9-3f945932a2e0\" type=\"checkbox\" ><label for=\"a180190d-7616-4700-8ce9-3f945932a2e0\" class=\"sk-toggleable__label sk-toggleable__label-arrow\">OneHotEncoder</label><div class=\"sk-toggleable__content\"><pre>OneHotEncoder(handle_unknown=&#x27;ignore&#x27;)</pre></div></div></div></div></div></div></div></div><div class=\"sk-parallel-item\"><div class=\"sk-item\"><div class=\"sk-label-container\"><div class=\"sk-label sk-toggleable\"><input class=\"sk-toggleable__control sk-hidden--visually\" id=\"69611e9c-ed30-4bb1-8866-317e6104dc48\" type=\"checkbox\" ><label for=\"69611e9c-ed30-4bb1-8866-317e6104dc48\" class=\"sk-toggleable__label sk-toggleable__label-arrow\">numerical</label><div class=\"sk-toggleable__content\"><pre>[&#x27;age&#x27;, &#x27;height&#x27;]</pre></div></div></div><div class=\"sk-serial\"><div class=\"sk-item\"><div class=\"sk-serial\"><div class=\"sk-item\"><div class=\"sk-estimator sk-toggleable\"><input class=\"sk-toggleable__control sk-hidden--visually\" id=\"4076a784-234a-4f01-a9a4-3725d2c80fc6\" type=\"checkbox\" ><label for=\"4076a784-234a-4f01-a9a4-3725d2c80fc6\" class=\"sk-toggleable__label sk-toggleable__label-arrow\">SimpleImputer</label><div class=\"sk-toggleable__content\"><pre>SimpleImputer()</pre></div></div></div><div class=\"sk-item\"><div class=\"sk-estimator sk-toggleable\"><input class=\"sk-toggleable__control sk-hidden--visually\" id=\"4eba7860-dbd1-4044-84af-786f71fc915c\" type=\"checkbox\" ><label for=\"4eba7860-dbd1-4044-84af-786f71fc915c\" class=\"sk-toggleable__label sk-toggleable__label-arrow\">StandardScaler</label><div class=\"sk-toggleable__content\"><pre>StandardScaler()</pre></div></div></div></div></div></div></div></div></div></div><div class=\"sk-item\"><div class=\"sk-estimator sk-toggleable\"><input class=\"sk-toggleable__control sk-hidden--visually\" id=\"40cacb58-d161-44c5-8a7f-fabda879c6a6\" type=\"checkbox\" ><label for=\"40cacb58-d161-44c5-8a7f-fabda879c6a6\" class=\"sk-toggleable__label sk-toggleable__label-arrow\">LogisticRegression</label><div class=\"sk-toggleable__content\"><pre>LogisticRegression()</pre></div></div></div></div></div></div></div>"
      ],
      "text/plain": [
       "Pipeline(steps=[('columntransformer',\n",
       "                 ColumnTransformer(transformers=[('categorical',\n",
       "                                                  Pipeline(steps=[('imputation_constant',\n",
       "                                                                   SimpleImputer(fill_value='missing',\n",
       "                                                                                 strategy='constant')),\n",
       "                                                                  ('onehot',\n",
       "                                                                   OneHotEncoder(handle_unknown='ignore'))]),\n",
       "                                                  ['gender', 'City']),\n",
       "                                                 ('numerical',\n",
       "                                                  Pipeline(steps=[('imputation '\n",
       "                                                                   'mean',\n",
       "                                                                   SimpleImputer()),\n",
       "                                                                  ('scaler',\n",
       "                                                                   StandardScaler())]),\n",
       "                                                  ['age', 'height'])])),\n",
       "                ('logisticregression', LogisticRegression())])"
      ]
     },
     "execution_count": 120,
     "metadata": {},
     "output_type": "execute_result"
    }
   ],
   "source": [
    "pipe"
   ]
  },
  {
   "cell_type": "code",
   "execution_count": null,
   "metadata": {},
   "outputs": [],
   "source": []
  }
 ],
 "metadata": {
  "kernelspec": {
   "display_name": "Python 3.9.13 ('base')",
   "language": "python",
   "name": "python3"
  },
  "language_info": {
   "codemirror_mode": {
    "name": "ipython",
    "version": 3
   },
   "file_extension": ".py",
   "mimetype": "text/x-python",
   "name": "python",
   "nbconvert_exporter": "python",
   "pygments_lexer": "ipython3",
   "version": "3.9.13"
  },
  "orig_nbformat": 4,
  "vscode": {
   "interpreter": {
    "hash": "bf47b979af6218006679e3cd4b3e8a395ffcdc451ba8663483df8a79413a44cd"
   }
  }
 },
 "nbformat": 4,
 "nbformat_minor": 2
}
